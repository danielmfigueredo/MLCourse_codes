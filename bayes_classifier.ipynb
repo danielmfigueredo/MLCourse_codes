{
  "nbformat": 4,
  "nbformat_minor": 0,
  "metadata": {
    "colab": {
      "provenance": [],
      "toc_visible": true
    },
    "kernelspec": {
      "name": "python3",
      "display_name": "Python 3"
    },
    "language_info": {
      "name": "python"
    }
  },
  "cells": [
    {
      "cell_type": "code",
      "execution_count": 2,
      "metadata": {
        "colab": {
          "base_uri": "https://localhost:8080/"
        },
        "id": "kjM_9uxUoCbq",
        "outputId": "f599b18c-b222-410e-d00e-0eac80872e8b"
      },
      "outputs": [
        {
          "output_type": "stream",
          "name": "stdout",
          "text": [
            "Accuracy: 0.78\n"
          ]
        }
      ],
      "source": [
        "# Importações necessárias\n",
        "import numpy as np\n",
        "import pandas as pd\n",
        "from sklearn.model_selection import train_test_split\n",
        "from sklearn.preprocessing import MinMaxScaler\n",
        "from sklearn.naive_bayes import MultinomialNB\n",
        "from sklearn.metrics import accuracy_score\n",
        "\n",
        "# Carregar e limpar os dados\n",
        "col_names = ['BI_RADS', 'age', 'shape', 'margin', 'density', 'severity']\n",
        "df = pd.read_csv(\"sample_data/mammographic_masses.data.txt\", names=col_names, header=None, na_values='?')\n",
        "df.dropna(inplace=True)\n",
        "\n",
        "# Definir recursos e classes\n",
        "features = ['age', 'shape', 'margin', 'density']\n",
        "target = 'severity'\n",
        "\n",
        "# Dividir os dados em conjuntos de treino e teste\n",
        "X_train, X_test, y_train, y_test = train_test_split(df[features], df[target], test_size=0.25, random_state=0)\n",
        "\n",
        "# Escalar os dados\n",
        "scaler = MinMaxScaler()\n",
        "X_train_scaled = scaler.fit_transform(X_train)\n",
        "X_test_scaled = scaler.transform(X_test)\n",
        "\n",
        "# Treinar o classificador\n",
        "classifier = MultinomialNB()\n",
        "classifier.fit(X_train_scaled, y_train)\n",
        "\n",
        "# Fazer previsões e calcular a precisão\n",
        "predictions = classifier.predict(X_test_scaled)\n",
        "accuracy = accuracy_score(y_test, predictions)\n",
        "print(f'Accuracy: {accuracy:.2f}')\n"
      ]
    }
  ]
}
