{
 "cells": [
  {
   "cell_type": "code",
   "execution_count": 4,
   "id": "05df5eb9",
   "metadata": {},
   "outputs": [],
   "source": [
    "%matplotlib inline\n",
    "import numpy as np\n",
    "import pandas as pd\n",
    "from sklearn import tree\n",
    "from sklearn.metrics import accuracy_score\n",
    "col = ['BI_RADS','age','shape', 'margin', 'density', 'severity']\n",
    "df = pd.read_csv(\"mammographic_masses.data.txt\", names=col, header=None, na_values={'BI_RADS':'?','age':'?','shape':'?', 'margin':'?', 'density':'?', 'severity':'?'})\n",
    "df = df.dropna()\n",
    "features = ['age', 'shape', 'margin','density']\n",
    "classes = 'severity'"
   ]
  },
  {
   "cell_type": "code",
   "execution_count": 5,
   "id": "c71e04f1",
   "metadata": {},
   "outputs": [],
   "source": [
    "from sklearn.model_selection import train_test_split\n",
    "\n",
    "X_train, X_test, y_train, y_test = train_test_split(df[features], df[classes], test_size=0.25, random_state=0)\n",
    "\n",
    "from sklearn.preprocessing import StandardScaler\n",
    "x = X_train.values\n",
    "g = X_test.values\n",
    "scaler = StandardScaler()\n",
    "scaled = scaler.fit_transform(x)\n",
    "X_train = pd.DataFrame(scaled)\n",
    "scaled = scaler.fit_transform(g)\n",
    "X_test = pd.DataFrame(scaled)"
   ]
  },
  {
   "cell_type": "code",
   "execution_count": 6,
   "id": "a7b1274a",
   "metadata": {},
   "outputs": [
    {
     "name": "stdout",
     "output_type": "stream",
     "text": [
      "0.7163461538461539\n",
      "0.7067307692307693\n",
      "0.7596153846153846\n",
      "0.7451923076923077\n",
      "0.7836538461538461\n",
      "0.7884615384615384\n",
      "0.7932692307692307\n",
      "0.7932692307692307\n",
      "0.8076923076923077\n",
      "0.7932692307692307\n",
      "0.8028846153846154\n",
      "0.8028846153846154\n",
      "0.8125\n",
      "0.8076923076923077\n",
      "0.7980769230769231\n",
      "0.8028846153846154\n",
      "0.8028846153846154\n",
      "0.7836538461538461\n",
      "0.7740384615384616\n",
      "0.7884615384615384\n",
      "0.7788461538461539\n",
      "0.7836538461538461\n",
      "0.7788461538461539\n",
      "0.7644230769230769\n",
      "0.7692307692307693\n",
      "0.7692307692307693\n",
      "0.7692307692307693\n",
      "0.7740384615384616\n",
      "0.7836538461538461\n",
      "0.7740384615384616\n",
      "0.7836538461538461\n",
      "0.7836538461538461\n",
      "0.7788461538461539\n",
      "0.7788461538461539\n",
      "0.7788461538461539\n",
      "0.7788461538461539\n",
      "0.7836538461538461\n",
      "0.7836538461538461\n",
      "0.7884615384615384\n",
      "0.7884615384615384\n",
      "0.7836538461538461\n",
      "0.7884615384615384\n",
      "0.7884615384615384\n",
      "0.7884615384615384\n",
      "0.7884615384615384\n",
      "0.7884615384615384\n",
      "0.7836538461538461\n",
      "0.7884615384615384\n",
      "0.7788461538461539\n",
      "0.7788461538461539\n"
     ]
    }
   ],
   "source": [
    "from sklearn.neighbors import KNeighborsClassifier\n",
    "for i in range(1,51):\n",
    "    neigh = KNeighborsClassifier(n_neighbors=i)\n",
    "    neigh = neigh.fit(X_train, y_train)\n",
    "    predictions = neigh.predict(X_test)\n",
    "    print(accuracy_score(y_test, predictions))"
   ]
  },
  {
   "cell_type": "code",
   "execution_count": null,
   "id": "27ffca51",
   "metadata": {},
   "outputs": [],
   "source": []
  }
 ],
 "metadata": {
  "kernelspec": {
   "display_name": "Python 3 (ipykernel)",
   "language": "python",
   "name": "python3"
  },
  "language_info": {
   "codemirror_mode": {
    "name": "ipython",
    "version": 3
   },
   "file_extension": ".py",
   "mimetype": "text/x-python",
   "name": "python",
   "nbconvert_exporter": "python",
   "pygments_lexer": "ipython3",
   "version": "3.11.5"
  }
 },
 "nbformat": 4,
 "nbformat_minor": 5
}
