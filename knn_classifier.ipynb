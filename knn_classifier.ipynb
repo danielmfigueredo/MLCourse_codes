{
  "nbformat": 4,
  "nbformat_minor": 0,
  "metadata": {
    "colab": {
      "provenance": [],
      "toc_visible": true
    },
    "kernelspec": {
      "name": "python3",
      "display_name": "Python 3"
    },
    "language_info": {
      "name": "python"
    }
  },
  "cells": [
    {
      "cell_type": "code",
      "source": [
        "%matplotlib inline\n",
        "import numpy as np\n",
        "import pandas as pd\n",
        "from sklearn.model_selection import train_test_split\n",
        "from sklearn.preprocessing import StandardScaler\n",
        "from sklearn.neighbors import KNeighborsClassifier\n",
        "from sklearn.metrics import accuracy_score\n",
        "\n",
        "# Definir o caminho relativo para o arquivo de dados\n",
        "file_path = 'sample_data/mammographic_masses.data.txt'\n",
        "\n",
        "# Carregar e limpar os dados\n",
        "col_names = ['BI_RADS', 'age', 'shape', 'margin', 'density', 'severity']\n",
        "df = pd.read_csv(file_path, names=col_names, header=None, na_values='?')\n",
        "df.dropna(inplace=True)\n",
        "\n",
        "# Definir recursos e classes\n",
        "features = ['age', 'shape', 'margin', 'density']\n",
        "target = 'severity'\n",
        "\n",
        "# Dividir os dados em conjuntos de treino e teste\n",
        "X_train, X_test, y_train, y_test = train_test_split(df[features], df[target], test_size=0.25, random_state=0)\n",
        "\n",
        "# Escalar os dados\n",
        "scaler = StandardScaler()\n",
        "X_train_scaled = scaler.fit_transform(X_train)\n",
        "X_test_scaled = scaler.transform(X_test)\n",
        "\n",
        "# Treinar e avaliar o classificador KNN para diferentes valores de k\n",
        "max_accuracy = 0\n",
        "best_k = 1\n",
        "\n",
        "for i in range(1, 51):\n",
        "    knn = KNeighborsClassifier(n_neighbors=i)\n",
        "    knn.fit(X_train_scaled, y_train)\n",
        "    predictions = knn.predict(X_test_scaled)\n",
        "    accuracy = accuracy_score(y_test, predictions)\n",
        "\n",
        "    if accuracy > max_accuracy:\n",
        "        max_accuracy = accuracy\n",
        "        best_k = i\n",
        "\n",
        "print(f'Maximum accuracy: {max_accuracy:.2f} for k={best_k}')\n"
      ],
      "metadata": {
        "colab": {
          "base_uri": "https://localhost:8080/"
        },
        "id": "p_V1kENWwI80",
        "outputId": "de6246da-0587-4aec-e962-1c4e3061d264"
      },
      "execution_count": 9,
      "outputs": [
        {
          "output_type": "stream",
          "name": "stdout",
          "text": [
            "Maximum accuracy: 0.81 for k=11\n"
          ]
        }
      ]
    }
  ]
}
