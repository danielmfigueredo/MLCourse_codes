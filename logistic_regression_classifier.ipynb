{
  "nbformat": 4,
  "nbformat_minor": 0,
  "metadata": {
    "colab": {
      "provenance": [],
      "toc_visible": true
    },
    "kernelspec": {
      "name": "python3",
      "display_name": "Python 3"
    },
    "language_info": {
      "name": "python"
    }
  },
  "cells": [
    {
      "cell_type": "code",
      "source": [
        "%matplotlib inline\n",
        "import numpy as np\n",
        "import pandas as pd\n",
        "from sklearn.model_selection import train_test_split\n",
        "from sklearn.preprocessing import StandardScaler\n",
        "from sklearn.linear_model import LogisticRegression\n",
        "from sklearn.metrics import accuracy_score\n",
        "\n",
        "# Definir o caminho relativo para o arquivo de dados\n",
        "file_path = 'sample_data/mammographic_masses.data.txt'\n",
        "\n",
        "# Carregar e limpar os dados\n",
        "col_names = ['BI_RADS', 'age', 'shape', 'margin', 'density', 'severity']\n",
        "df = pd.read_csv(file_path, names=col_names, header=None, na_values='?')\n",
        "df.dropna(inplace=True)\n",
        "\n",
        "# Definir recursos e classes\n",
        "features = ['age', 'shape', 'margin', 'density']\n",
        "target = 'severity'\n",
        "\n",
        "# Dividir os dados em conjuntos de treino e teste\n",
        "X_train, X_test, y_train, y_test = train_test_split(df[features], df[target], test_size=0.25, random_state=0)\n",
        "\n",
        "# Escalar os dados\n",
        "scaler = StandardScaler()\n",
        "X_train_scaled = scaler.fit_transform(X_train)\n",
        "X_test_scaled = scaler.transform(X_test)\n",
        "\n",
        "# Treinar o classificador de regressão logística\n",
        "clf = LogisticRegression(random_state=0)\n",
        "clf.fit(X_train_scaled, y_train)\n",
        "\n",
        "# Avaliar a acurácia no conjunto de teste\n",
        "accuracy = clf.score(X_test_scaled, y_test)\n",
        "print(f'Accuracy: {accuracy:.2f}')\n"
      ],
      "metadata": {
        "colab": {
          "base_uri": "https://localhost:8080/"
        },
        "id": "p_V1kENWwI80",
        "outputId": "9740f30a-c201-4e58-80df-b6d6dfc13c47"
      },
      "execution_count": 10,
      "outputs": [
        {
          "output_type": "stream",
          "name": "stdout",
          "text": [
            "Accuracy: 0.78\n"
          ]
        }
      ]
    }
  ]
}
