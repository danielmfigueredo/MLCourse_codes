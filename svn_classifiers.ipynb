{
  "nbformat": 4,
  "nbformat_minor": 0,
  "metadata": {
    "colab": {
      "provenance": [],
      "toc_visible": true
    },
    "kernelspec": {
      "name": "python3",
      "display_name": "Python 3"
    },
    "language_info": {
      "name": "python"
    }
  },
  "cells": [
    {
      "cell_type": "code",
      "source": [
        "%matplotlib inline\n",
        "import numpy as np\n",
        "import pandas as pd\n",
        "from sklearn.model_selection import train_test_split\n",
        "from sklearn.preprocessing import StandardScaler\n",
        "from sklearn import svm\n",
        "from sklearn.metrics import accuracy_score\n",
        "\n",
        "# Definir o caminho relativo para o arquivo de dados\n",
        "file_path = 'sample_data/mammographic_masses.data.txt'\n",
        "\n",
        "# Carregar e limpar os dados\n",
        "col_names = ['BI_RADS', 'age', 'shape', 'margin', 'density', 'severity']\n",
        "df = pd.read_csv(file_path, names=col_names, header=None, na_values='?')\n",
        "df.dropna(inplace=True)\n",
        "\n",
        "# Definir recursos e classes\n",
        "features = ['age', 'shape', 'margin', 'density']\n",
        "target = 'severity'\n",
        "\n",
        "# Dividir os dados em conjuntos de treino e teste\n",
        "X_train, X_test, y_train, y_test = train_test_split(df[features], df[target], test_size=0.25, random_state=0)\n",
        "\n",
        "# Escalar os dados\n",
        "scaler = StandardScaler()\n",
        "X_train_scaled = scaler.fit_transform(X_train)\n",
        "X_test_scaled = scaler.transform(X_test)\n",
        "\n",
        "# Inicializar variáveis para armazenar a melhor acurácia e o melhor kernel\n",
        "best_accuracy = 0\n",
        "best_kernel = None\n",
        "\n",
        "# Treinar e avaliar o classificador SVM para diferentes kernels\n",
        "kernels = ['linear', 'rbf', 'sigmoid', 'poly']\n",
        "for kernel in kernels:\n",
        "    clf = svm.SVC(kernel=kernel, C=1)\n",
        "    clf.fit(X_train_scaled, y_train)\n",
        "    accuracy = clf.score(X_test_scaled, y_test)\n",
        "\n",
        "    if accuracy > best_accuracy:\n",
        "        best_accuracy = accuracy\n",
        "        best_kernel = kernel\n",
        "\n",
        "print(f'Maximum accuracy: {best_accuracy:.2f} with kernel={best_kernel}')\n"
      ],
      "metadata": {
        "colab": {
          "base_uri": "https://localhost:8080/"
        },
        "id": "p_V1kENWwI80",
        "outputId": "3b1af0f6-07bf-46e3-d49b-f70774b946bb"
      },
      "execution_count": 14,
      "outputs": [
        {
          "output_type": "stream",
          "name": "stdout",
          "text": [
            "Maximum accuracy: 0.78 with kernel=linear\n"
          ]
        }
      ]
    }
  ]
}
